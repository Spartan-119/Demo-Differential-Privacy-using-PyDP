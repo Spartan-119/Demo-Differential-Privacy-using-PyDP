{
 "cells": [
  {
   "cell_type": "code",
   "execution_count": null,
   "id": "checked-roller",
   "metadata": {},
   "outputs": [],
   "source": [
    "!pip install python-dp # installing PyDP"
   ]
  },
  {
   "cell_type": "code",
   "execution_count": 25,
   "id": "solar-postcard",
   "metadata": {},
   "outputs": [],
   "source": [
    "import pydp as dp # by convention our package is to be imported as dp (dp for Differential Privacy!)\n",
    "from pydp.algorithms.laplacian import BoundedSum, BoundedMean, Count, Max\n",
    "import pandas as pd\n",
    "import statistics \n",
    "import numpy as np\n",
    "import matplotlib.pyplot as plt"
   ]
  },
  {
   "cell_type": "markdown",
   "id": "stupid-reading",
   "metadata": {},
   "source": [
    "The dataset used here contains 5000 records, and is stored across 5 files, each file containing 1000 records. More specifically, the dataset contains details such as the first and last names, email addresses of customers and the amount they spent on purchasing goods, and the state in the US they're from. Let's fetch all the records, read them into pandas DataFrames and take a look at the head of each of the DataFrames."
   ]
  },
  {
   "cell_type": "code",
   "execution_count": 26,
   "id": "union-claim",
   "metadata": {},
   "outputs": [
    {
     "data": {
      "text/html": [
       "<div>\n",
       "<style scoped>\n",
       "    .dataframe tbody tr th:only-of-type {\n",
       "        vertical-align: middle;\n",
       "    }\n",
       "\n",
       "    .dataframe tbody tr th {\n",
       "        vertical-align: top;\n",
       "    }\n",
       "\n",
       "    .dataframe thead th {\n",
       "        text-align: right;\n",
       "    }\n",
       "</style>\n",
       "<table border=\"1\" class=\"dataframe\">\n",
       "  <thead>\n",
       "    <tr style=\"text-align: right;\">\n",
       "      <th></th>\n",
       "      <th>id</th>\n",
       "      <th>first_name</th>\n",
       "      <th>last_name</th>\n",
       "      <th>email</th>\n",
       "      <th>sales_amount</th>\n",
       "      <th>state</th>\n",
       "    </tr>\n",
       "  </thead>\n",
       "  <tbody>\n",
       "    <tr>\n",
       "      <th>0</th>\n",
       "      <td>1</td>\n",
       "      <td>Osbourne</td>\n",
       "      <td>Gillions</td>\n",
       "      <td>ogillions0@feedburner.com</td>\n",
       "      <td>31.94</td>\n",
       "      <td>Florida</td>\n",
       "    </tr>\n",
       "    <tr>\n",
       "      <th>1</th>\n",
       "      <td>2</td>\n",
       "      <td>Glynn</td>\n",
       "      <td>Friett</td>\n",
       "      <td>gfriett1@blog.com</td>\n",
       "      <td>12.46</td>\n",
       "      <td>California</td>\n",
       "    </tr>\n",
       "    <tr>\n",
       "      <th>2</th>\n",
       "      <td>3</td>\n",
       "      <td>Jori</td>\n",
       "      <td>Blockley</td>\n",
       "      <td>jblockley2@unesco.org</td>\n",
       "      <td>191.14</td>\n",
       "      <td>Colorado</td>\n",
       "    </tr>\n",
       "    <tr>\n",
       "      <th>3</th>\n",
       "      <td>4</td>\n",
       "      <td>Garald</td>\n",
       "      <td>Dorian</td>\n",
       "      <td>gdorian3@webeden.co.uk</td>\n",
       "      <td>126.58</td>\n",
       "      <td>Texas</td>\n",
       "    </tr>\n",
       "    <tr>\n",
       "      <th>4</th>\n",
       "      <td>5</td>\n",
       "      <td>Mercy</td>\n",
       "      <td>Pilkington</td>\n",
       "      <td>mpilkington4@jugem.jp</td>\n",
       "      <td>68.32</td>\n",
       "      <td>Florida</td>\n",
       "    </tr>\n",
       "  </tbody>\n",
       "</table>\n",
       "</div>"
      ],
      "text/plain": [
       "   id first_name   last_name                      email  sales_amount  \\\n",
       "0   1   Osbourne    Gillions  ogillions0@feedburner.com         31.94   \n",
       "1   2      Glynn      Friett          gfriett1@blog.com         12.46   \n",
       "2   3       Jori    Blockley      jblockley2@unesco.org        191.14   \n",
       "3   4     Garald      Dorian     gdorian3@webeden.co.uk        126.58   \n",
       "4   5      Mercy  Pilkington      mpilkington4@jugem.jp         68.32   \n",
       "\n",
       "        state  \n",
       "0     Florida  \n",
       "1  California  \n",
       "2    Colorado  \n",
       "3       Texas  \n",
       "4     Florida  "
      ]
     },
     "execution_count": 26,
     "metadata": {},
     "output_type": "execute_result"
    }
   ],
   "source": [
    "url1 = 'https://raw.githubusercontent.com/OpenMined/PyDP/dev/examples/Tutorial_4-Launch_demo/data/01.csv'\n",
    "df1 = pd.read_csv(url1,sep=\",\", engine = \"python\")\n",
    "df1.head()"
   ]
  },
  {
   "cell_type": "code",
   "execution_count": 27,
   "id": "owned-projector",
   "metadata": {},
   "outputs": [
    {
     "data": {
      "text/html": [
       "<div>\n",
       "<style scoped>\n",
       "    .dataframe tbody tr th:only-of-type {\n",
       "        vertical-align: middle;\n",
       "    }\n",
       "\n",
       "    .dataframe tbody tr th {\n",
       "        vertical-align: top;\n",
       "    }\n",
       "\n",
       "    .dataframe thead th {\n",
       "        text-align: right;\n",
       "    }\n",
       "</style>\n",
       "<table border=\"1\" class=\"dataframe\">\n",
       "  <thead>\n",
       "    <tr style=\"text-align: right;\">\n",
       "      <th></th>\n",
       "      <th>id</th>\n",
       "      <th>first_name</th>\n",
       "      <th>last_name</th>\n",
       "      <th>email</th>\n",
       "      <th>sales_amount</th>\n",
       "      <th>state</th>\n",
       "    </tr>\n",
       "  </thead>\n",
       "  <tbody>\n",
       "    <tr>\n",
       "      <th>0</th>\n",
       "      <td>1</td>\n",
       "      <td>Wallie</td>\n",
       "      <td>Kaman</td>\n",
       "      <td>wkaman0@samsung.com</td>\n",
       "      <td>99.69</td>\n",
       "      <td>Idaho</td>\n",
       "    </tr>\n",
       "    <tr>\n",
       "      <th>1</th>\n",
       "      <td>2</td>\n",
       "      <td>Raynard</td>\n",
       "      <td>Tooby</td>\n",
       "      <td>rtooby1@indiegogo.com</td>\n",
       "      <td>208.61</td>\n",
       "      <td>Texas</td>\n",
       "    </tr>\n",
       "    <tr>\n",
       "      <th>2</th>\n",
       "      <td>3</td>\n",
       "      <td>Mandie</td>\n",
       "      <td>Stallibrass</td>\n",
       "      <td>mstallibrass2@princeton.edu</td>\n",
       "      <td>42.87</td>\n",
       "      <td>Michigan</td>\n",
       "    </tr>\n",
       "    <tr>\n",
       "      <th>3</th>\n",
       "      <td>4</td>\n",
       "      <td>Nonna</td>\n",
       "      <td>Regitz</td>\n",
       "      <td>nregitz3@icq.com</td>\n",
       "      <td>160.94</td>\n",
       "      <td>Iowa</td>\n",
       "    </tr>\n",
       "    <tr>\n",
       "      <th>4</th>\n",
       "      <td>5</td>\n",
       "      <td>Barthel</td>\n",
       "      <td>Cowgill</td>\n",
       "      <td>bcowgill4@tiny.cc</td>\n",
       "      <td>179.88</td>\n",
       "      <td>Ohio</td>\n",
       "    </tr>\n",
       "  </tbody>\n",
       "</table>\n",
       "</div>"
      ],
      "text/plain": [
       "   id first_name    last_name                        email  sales_amount  \\\n",
       "0   1     Wallie        Kaman          wkaman0@samsung.com         99.69   \n",
       "1   2    Raynard        Tooby        rtooby1@indiegogo.com        208.61   \n",
       "2   3     Mandie  Stallibrass  mstallibrass2@princeton.edu         42.87   \n",
       "3   4      Nonna       Regitz             nregitz3@icq.com        160.94   \n",
       "4   5    Barthel      Cowgill            bcowgill4@tiny.cc        179.88   \n",
       "\n",
       "      state  \n",
       "0     Idaho  \n",
       "1     Texas  \n",
       "2  Michigan  \n",
       "3      Iowa  \n",
       "4      Ohio  "
      ]
     },
     "execution_count": 27,
     "metadata": {},
     "output_type": "execute_result"
    }
   ],
   "source": [
    "url2 = 'https://raw.githubusercontent.com/OpenMined/PyDP/dev/examples/Tutorial_4-Launch_demo/data/02.csv'\n",
    "df2 = pd.read_csv(url2,sep=\",\", engine = \"python\")\n",
    "df2.head()"
   ]
  },
  {
   "cell_type": "code",
   "execution_count": 28,
   "id": "amazing-theme",
   "metadata": {},
   "outputs": [
    {
     "data": {
      "text/html": [
       "<div>\n",
       "<style scoped>\n",
       "    .dataframe tbody tr th:only-of-type {\n",
       "        vertical-align: middle;\n",
       "    }\n",
       "\n",
       "    .dataframe tbody tr th {\n",
       "        vertical-align: top;\n",
       "    }\n",
       "\n",
       "    .dataframe thead th {\n",
       "        text-align: right;\n",
       "    }\n",
       "</style>\n",
       "<table border=\"1\" class=\"dataframe\">\n",
       "  <thead>\n",
       "    <tr style=\"text-align: right;\">\n",
       "      <th></th>\n",
       "      <th>id</th>\n",
       "      <th>first_name</th>\n",
       "      <th>last_name</th>\n",
       "      <th>email</th>\n",
       "      <th>sales_amount</th>\n",
       "      <th>state</th>\n",
       "    </tr>\n",
       "  </thead>\n",
       "  <tbody>\n",
       "    <tr>\n",
       "      <th>0</th>\n",
       "      <td>1</td>\n",
       "      <td>Tomasina</td>\n",
       "      <td>Marcos</td>\n",
       "      <td>tmarcos0@wix.com</td>\n",
       "      <td>161.38</td>\n",
       "      <td>Indiana</td>\n",
       "    </tr>\n",
       "    <tr>\n",
       "      <th>1</th>\n",
       "      <td>2</td>\n",
       "      <td>Mill</td>\n",
       "      <td>Yitzhak</td>\n",
       "      <td>myitzhak1@barnesandnoble.com</td>\n",
       "      <td>182.22</td>\n",
       "      <td>Florida</td>\n",
       "    </tr>\n",
       "    <tr>\n",
       "      <th>2</th>\n",
       "      <td>3</td>\n",
       "      <td>Hobart</td>\n",
       "      <td>Banaszczyk</td>\n",
       "      <td>hbanaszczyk2@mac.com</td>\n",
       "      <td>41.67</td>\n",
       "      <td>Texas</td>\n",
       "    </tr>\n",
       "    <tr>\n",
       "      <th>3</th>\n",
       "      <td>4</td>\n",
       "      <td>Bonita</td>\n",
       "      <td>Benting</td>\n",
       "      <td>bbenting3@smugmug.com</td>\n",
       "      <td>190.26</td>\n",
       "      <td>Indiana</td>\n",
       "    </tr>\n",
       "    <tr>\n",
       "      <th>4</th>\n",
       "      <td>5</td>\n",
       "      <td>Kasper</td>\n",
       "      <td>Deyes</td>\n",
       "      <td>kdeyes4@storify.com</td>\n",
       "      <td>177.94</td>\n",
       "      <td>Ohio</td>\n",
       "    </tr>\n",
       "  </tbody>\n",
       "</table>\n",
       "</div>"
      ],
      "text/plain": [
       "   id first_name   last_name                         email  sales_amount  \\\n",
       "0   1   Tomasina      Marcos              tmarcos0@wix.com        161.38   \n",
       "1   2       Mill     Yitzhak  myitzhak1@barnesandnoble.com        182.22   \n",
       "2   3     Hobart  Banaszczyk          hbanaszczyk2@mac.com         41.67   \n",
       "3   4     Bonita     Benting         bbenting3@smugmug.com        190.26   \n",
       "4   5     Kasper       Deyes           kdeyes4@storify.com        177.94   \n",
       "\n",
       "     state  \n",
       "0  Indiana  \n",
       "1  Florida  \n",
       "2    Texas  \n",
       "3  Indiana  \n",
       "4     Ohio  "
      ]
     },
     "execution_count": 28,
     "metadata": {},
     "output_type": "execute_result"
    }
   ],
   "source": [
    "url3 ='https://raw.githubusercontent.com/OpenMined/PyDP/dev/examples/Tutorial_4-Launch_demo/data/03.csv'\n",
    "df3 = pd.read_csv(url3,sep=\",\", engine = \"python\")\n",
    "df3.head()"
   ]
  },
  {
   "cell_type": "code",
   "execution_count": 29,
   "id": "connected-character",
   "metadata": {},
   "outputs": [
    {
     "data": {
      "text/html": [
       "<div>\n",
       "<style scoped>\n",
       "    .dataframe tbody tr th:only-of-type {\n",
       "        vertical-align: middle;\n",
       "    }\n",
       "\n",
       "    .dataframe tbody tr th {\n",
       "        vertical-align: top;\n",
       "    }\n",
       "\n",
       "    .dataframe thead th {\n",
       "        text-align: right;\n",
       "    }\n",
       "</style>\n",
       "<table border=\"1\" class=\"dataframe\">\n",
       "  <thead>\n",
       "    <tr style=\"text-align: right;\">\n",
       "      <th></th>\n",
       "      <th>id</th>\n",
       "      <th>first_name</th>\n",
       "      <th>last_name</th>\n",
       "      <th>email</th>\n",
       "      <th>sales_amount</th>\n",
       "      <th>state</th>\n",
       "    </tr>\n",
       "  </thead>\n",
       "  <tbody>\n",
       "    <tr>\n",
       "      <th>0</th>\n",
       "      <td>1</td>\n",
       "      <td>Dylan</td>\n",
       "      <td>Mattocks</td>\n",
       "      <td>dmattocks0@elegantthemes.com</td>\n",
       "      <td>141.90</td>\n",
       "      <td>Wisconsin</td>\n",
       "    </tr>\n",
       "    <tr>\n",
       "      <th>1</th>\n",
       "      <td>2</td>\n",
       "      <td>Tully</td>\n",
       "      <td>Pettko</td>\n",
       "      <td>tpettko1@engadget.com</td>\n",
       "      <td>15.09</td>\n",
       "      <td>Missouri</td>\n",
       "    </tr>\n",
       "    <tr>\n",
       "      <th>2</th>\n",
       "      <td>3</td>\n",
       "      <td>Ruy</td>\n",
       "      <td>Rodrigo</td>\n",
       "      <td>rrodrigo2@whitehouse.gov</td>\n",
       "      <td>90.72</td>\n",
       "      <td>Florida</td>\n",
       "    </tr>\n",
       "    <tr>\n",
       "      <th>3</th>\n",
       "      <td>4</td>\n",
       "      <td>Blakeley</td>\n",
       "      <td>Lower</td>\n",
       "      <td>blower3@macromedia.com</td>\n",
       "      <td>29.87</td>\n",
       "      <td>California</td>\n",
       "    </tr>\n",
       "    <tr>\n",
       "      <th>4</th>\n",
       "      <td>5</td>\n",
       "      <td>Horace</td>\n",
       "      <td>Studdert</td>\n",
       "      <td>hstuddert4@theatlantic.com</td>\n",
       "      <td>196.99</td>\n",
       "      <td>Ohio</td>\n",
       "    </tr>\n",
       "  </tbody>\n",
       "</table>\n",
       "</div>"
      ],
      "text/plain": [
       "   id first_name last_name                         email  sales_amount  \\\n",
       "0   1      Dylan  Mattocks  dmattocks0@elegantthemes.com        141.90   \n",
       "1   2      Tully    Pettko         tpettko1@engadget.com         15.09   \n",
       "2   3        Ruy   Rodrigo      rrodrigo2@whitehouse.gov         90.72   \n",
       "3   4   Blakeley     Lower        blower3@macromedia.com         29.87   \n",
       "4   5     Horace  Studdert    hstuddert4@theatlantic.com        196.99   \n",
       "\n",
       "        state  \n",
       "0   Wisconsin  \n",
       "1    Missouri  \n",
       "2     Florida  \n",
       "3  California  \n",
       "4        Ohio  "
      ]
     },
     "execution_count": 29,
     "metadata": {},
     "output_type": "execute_result"
    }
   ],
   "source": [
    "url4 = 'https://raw.githubusercontent.com/OpenMined/PyDP/dev/examples/Tutorial_4-Launch_demo/data/04.csv'\n",
    "df4 = pd.read_csv(url4,sep=\",\", engine = \"python\")\n",
    "df4.head()"
   ]
  },
  {
   "cell_type": "code",
   "execution_count": 30,
   "id": "protecting-guard",
   "metadata": {},
   "outputs": [
    {
     "data": {
      "text/html": [
       "<div>\n",
       "<style scoped>\n",
       "    .dataframe tbody tr th:only-of-type {\n",
       "        vertical-align: middle;\n",
       "    }\n",
       "\n",
       "    .dataframe tbody tr th {\n",
       "        vertical-align: top;\n",
       "    }\n",
       "\n",
       "    .dataframe thead th {\n",
       "        text-align: right;\n",
       "    }\n",
       "</style>\n",
       "<table border=\"1\" class=\"dataframe\">\n",
       "  <thead>\n",
       "    <tr style=\"text-align: right;\">\n",
       "      <th></th>\n",
       "      <th>id</th>\n",
       "      <th>first_name</th>\n",
       "      <th>last_name</th>\n",
       "      <th>email</th>\n",
       "      <th>sales_amount</th>\n",
       "      <th>state</th>\n",
       "    </tr>\n",
       "  </thead>\n",
       "  <tbody>\n",
       "    <tr>\n",
       "      <th>0</th>\n",
       "      <td>1</td>\n",
       "      <td>Susi</td>\n",
       "      <td>Barker</td>\n",
       "      <td>sbarker0@comsenz.com</td>\n",
       "      <td>220.50</td>\n",
       "      <td>Kentucky</td>\n",
       "    </tr>\n",
       "    <tr>\n",
       "      <th>1</th>\n",
       "      <td>2</td>\n",
       "      <td>Gan</td>\n",
       "      <td>Stork</td>\n",
       "      <td>gstork1@who.int</td>\n",
       "      <td>31.75</td>\n",
       "      <td>California</td>\n",
       "    </tr>\n",
       "    <tr>\n",
       "      <th>2</th>\n",
       "      <td>3</td>\n",
       "      <td>Corene</td>\n",
       "      <td>Izod</td>\n",
       "      <td>cizod2@wikia.com</td>\n",
       "      <td>163.53</td>\n",
       "      <td>California</td>\n",
       "    </tr>\n",
       "    <tr>\n",
       "      <th>3</th>\n",
       "      <td>4</td>\n",
       "      <td>Cornell</td>\n",
       "      <td>Schoales</td>\n",
       "      <td>cschoales3@freewebs.com</td>\n",
       "      <td>59.09</td>\n",
       "      <td>Minnesota</td>\n",
       "    </tr>\n",
       "    <tr>\n",
       "      <th>4</th>\n",
       "      <td>5</td>\n",
       "      <td>Petrina</td>\n",
       "      <td>Kennaird</td>\n",
       "      <td>pkennaird4@patch.com</td>\n",
       "      <td>186.38</td>\n",
       "      <td>Georgia</td>\n",
       "    </tr>\n",
       "  </tbody>\n",
       "</table>\n",
       "</div>"
      ],
      "text/plain": [
       "   id first_name last_name                    email  sales_amount       state\n",
       "0   1       Susi    Barker     sbarker0@comsenz.com        220.50    Kentucky\n",
       "1   2        Gan     Stork          gstork1@who.int         31.75  California\n",
       "2   3     Corene      Izod         cizod2@wikia.com        163.53  California\n",
       "3   4    Cornell  Schoales  cschoales3@freewebs.com         59.09   Minnesota\n",
       "4   5    Petrina  Kennaird     pkennaird4@patch.com        186.38     Georgia"
      ]
     },
     "execution_count": 30,
     "metadata": {},
     "output_type": "execute_result"
    }
   ],
   "source": [
    "url5 = 'https://raw.githubusercontent.com/OpenMined/PyDP/dev/examples/Tutorial_4-Launch_demo/data/05.csv'\n",
    "df5 = pd.read_csv(url5,sep=\",\", engine = \"python\")\n",
    "df5.head()"
   ]
  },
  {
   "cell_type": "markdown",
   "id": "false-upper",
   "metadata": {},
   "source": [
    "Now that we've fetched records from all the 5 files, let us concatenate all the DataFrames into a single large DataFrame and this constitutes our original dataset. Note that our dataset has 5000 rows(records) and 6 columns."
   ]
  },
  {
   "cell_type": "code",
   "execution_count": 31,
   "id": "indirect-promise",
   "metadata": {},
   "outputs": [
    {
     "name": "stdout",
     "output_type": "stream",
     "text": [
      "(5000, 6)\n"
     ]
    }
   ],
   "source": [
    "combined_df_temp = [df1, df2, df3, df4, df5]\n",
    "original_dataset = pd.concat(combined_df_temp)\n",
    "print(original_dataset.shape)"
   ]
  },
  {
   "cell_type": "markdown",
   "id": "periodic-parks",
   "metadata": {},
   "source": [
    "## Creating a Parallel Database\n",
    "Let us now create a parallel database that differs by only one record, say, Osbourne's record and name it redact_dataset. We then inspect the heads of both DataFrames to verify that Osbourne's record has been removed."
   ]
  },
  {
   "cell_type": "code",
   "execution_count": 32,
   "id": "proof-howard",
   "metadata": {},
   "outputs": [],
   "source": [
    "redact_dataset = original_dataset.copy()\n",
    "redact_dataset = redact_dataset[1:]"
   ]
  },
  {
   "cell_type": "code",
   "execution_count": 33,
   "id": "ancient-berlin",
   "metadata": {},
   "outputs": [
    {
     "data": {
      "text/html": [
       "<div>\n",
       "<style scoped>\n",
       "    .dataframe tbody tr th:only-of-type {\n",
       "        vertical-align: middle;\n",
       "    }\n",
       "\n",
       "    .dataframe tbody tr th {\n",
       "        vertical-align: top;\n",
       "    }\n",
       "\n",
       "    .dataframe thead th {\n",
       "        text-align: right;\n",
       "    }\n",
       "</style>\n",
       "<table border=\"1\" class=\"dataframe\">\n",
       "  <thead>\n",
       "    <tr style=\"text-align: right;\">\n",
       "      <th></th>\n",
       "      <th>id</th>\n",
       "      <th>first_name</th>\n",
       "      <th>last_name</th>\n",
       "      <th>email</th>\n",
       "      <th>sales_amount</th>\n",
       "      <th>state</th>\n",
       "    </tr>\n",
       "  </thead>\n",
       "  <tbody>\n",
       "    <tr>\n",
       "      <th>0</th>\n",
       "      <td>1</td>\n",
       "      <td>Osbourne</td>\n",
       "      <td>Gillions</td>\n",
       "      <td>ogillions0@feedburner.com</td>\n",
       "      <td>31.94</td>\n",
       "      <td>Florida</td>\n",
       "    </tr>\n",
       "    <tr>\n",
       "      <th>1</th>\n",
       "      <td>2</td>\n",
       "      <td>Glynn</td>\n",
       "      <td>Friett</td>\n",
       "      <td>gfriett1@blog.com</td>\n",
       "      <td>12.46</td>\n",
       "      <td>California</td>\n",
       "    </tr>\n",
       "    <tr>\n",
       "      <th>2</th>\n",
       "      <td>3</td>\n",
       "      <td>Jori</td>\n",
       "      <td>Blockley</td>\n",
       "      <td>jblockley2@unesco.org</td>\n",
       "      <td>191.14</td>\n",
       "      <td>Colorado</td>\n",
       "    </tr>\n",
       "    <tr>\n",
       "      <th>3</th>\n",
       "      <td>4</td>\n",
       "      <td>Garald</td>\n",
       "      <td>Dorian</td>\n",
       "      <td>gdorian3@webeden.co.uk</td>\n",
       "      <td>126.58</td>\n",
       "      <td>Texas</td>\n",
       "    </tr>\n",
       "    <tr>\n",
       "      <th>4</th>\n",
       "      <td>5</td>\n",
       "      <td>Mercy</td>\n",
       "      <td>Pilkington</td>\n",
       "      <td>mpilkington4@jugem.jp</td>\n",
       "      <td>68.32</td>\n",
       "      <td>Florida</td>\n",
       "    </tr>\n",
       "  </tbody>\n",
       "</table>\n",
       "</div>"
      ],
      "text/plain": [
       "   id first_name   last_name                      email  sales_amount  \\\n",
       "0   1   Osbourne    Gillions  ogillions0@feedburner.com         31.94   \n",
       "1   2      Glynn      Friett          gfriett1@blog.com         12.46   \n",
       "2   3       Jori    Blockley      jblockley2@unesco.org        191.14   \n",
       "3   4     Garald      Dorian     gdorian3@webeden.co.uk        126.58   \n",
       "4   5      Mercy  Pilkington      mpilkington4@jugem.jp         68.32   \n",
       "\n",
       "        state  \n",
       "0     Florida  \n",
       "1  California  \n",
       "2    Colorado  \n",
       "3       Texas  \n",
       "4     Florida  "
      ]
     },
     "execution_count": 33,
     "metadata": {},
     "output_type": "execute_result"
    }
   ],
   "source": [
    "original_dataset.head()"
   ]
  },
  {
   "cell_type": "code",
   "execution_count": 34,
   "id": "external-optimum",
   "metadata": {},
   "outputs": [
    {
     "data": {
      "text/html": [
       "<div>\n",
       "<style scoped>\n",
       "    .dataframe tbody tr th:only-of-type {\n",
       "        vertical-align: middle;\n",
       "    }\n",
       "\n",
       "    .dataframe tbody tr th {\n",
       "        vertical-align: top;\n",
       "    }\n",
       "\n",
       "    .dataframe thead th {\n",
       "        text-align: right;\n",
       "    }\n",
       "</style>\n",
       "<table border=\"1\" class=\"dataframe\">\n",
       "  <thead>\n",
       "    <tr style=\"text-align: right;\">\n",
       "      <th></th>\n",
       "      <th>id</th>\n",
       "      <th>first_name</th>\n",
       "      <th>last_name</th>\n",
       "      <th>email</th>\n",
       "      <th>sales_amount</th>\n",
       "      <th>state</th>\n",
       "    </tr>\n",
       "  </thead>\n",
       "  <tbody>\n",
       "    <tr>\n",
       "      <th>1</th>\n",
       "      <td>2</td>\n",
       "      <td>Glynn</td>\n",
       "      <td>Friett</td>\n",
       "      <td>gfriett1@blog.com</td>\n",
       "      <td>12.46</td>\n",
       "      <td>California</td>\n",
       "    </tr>\n",
       "    <tr>\n",
       "      <th>2</th>\n",
       "      <td>3</td>\n",
       "      <td>Jori</td>\n",
       "      <td>Blockley</td>\n",
       "      <td>jblockley2@unesco.org</td>\n",
       "      <td>191.14</td>\n",
       "      <td>Colorado</td>\n",
       "    </tr>\n",
       "    <tr>\n",
       "      <th>3</th>\n",
       "      <td>4</td>\n",
       "      <td>Garald</td>\n",
       "      <td>Dorian</td>\n",
       "      <td>gdorian3@webeden.co.uk</td>\n",
       "      <td>126.58</td>\n",
       "      <td>Texas</td>\n",
       "    </tr>\n",
       "    <tr>\n",
       "      <th>4</th>\n",
       "      <td>5</td>\n",
       "      <td>Mercy</td>\n",
       "      <td>Pilkington</td>\n",
       "      <td>mpilkington4@jugem.jp</td>\n",
       "      <td>68.32</td>\n",
       "      <td>Florida</td>\n",
       "    </tr>\n",
       "    <tr>\n",
       "      <th>5</th>\n",
       "      <td>6</td>\n",
       "      <td>Elle</td>\n",
       "      <td>McConachie</td>\n",
       "      <td>emcconachie5@census.gov</td>\n",
       "      <td>76.91</td>\n",
       "      <td>Texas</td>\n",
       "    </tr>\n",
       "  </tbody>\n",
       "</table>\n",
       "</div>"
      ],
      "text/plain": [
       "   id first_name   last_name                    email  sales_amount  \\\n",
       "1   2      Glynn      Friett        gfriett1@blog.com         12.46   \n",
       "2   3       Jori    Blockley    jblockley2@unesco.org        191.14   \n",
       "3   4     Garald      Dorian   gdorian3@webeden.co.uk        126.58   \n",
       "4   5      Mercy  Pilkington    mpilkington4@jugem.jp         68.32   \n",
       "5   6       Elle  McConachie  emcconachie5@census.gov         76.91   \n",
       "\n",
       "        state  \n",
       "1  California  \n",
       "2    Colorado  \n",
       "3       Texas  \n",
       "4     Florida  \n",
       "5       Texas  "
      ]
     },
     "execution_count": 34,
     "metadata": {},
     "output_type": "execute_result"
    }
   ],
   "source": [
    "redact_dataset.head()"
   ]
  },
  {
   "cell_type": "markdown",
   "id": "whole-spirit",
   "metadata": {},
   "source": [
    "This is a simple example where membership inference was successful even after removal of personally identifiable information."
   ]
  },
  {
   "cell_type": "code",
   "execution_count": 35,
   "id": "athletic-telescope",
   "metadata": {},
   "outputs": [],
   "source": [
    "sum_original_dataset = round(sum(original_dataset['sales_amount'].to_list()), 2)\n",
    "sum_redact_dataset = round(sum(redact_dataset['sales_amount'].to_list()), 2)\n",
    "sales_amount_Osbourne = round((sum_original_dataset - sum_redact_dataset), 2)\n",
    "assert sales_amount_Osbourne == original_dataset.iloc[0, 4]"
   ]
  },
  {
   "cell_type": "markdown",
   "id": "exterior-winning",
   "metadata": {},
   "source": [
    "## Differentially Private Sum"
   ]
  },
  {
   "cell_type": "markdown",
   "id": "preceding-effort",
   "metadata": {},
   "source": [
    "let's assume that the customers should spend a minimum of 5 USD at the store and no more than 250 USD for a particular purchase.\n",
    "\n",
    "We then go ahead and compute differentially private sum on both original and the parallel dataset that differed by one record, as shown in the code snippets below."
   ]
  },
  {
   "cell_type": "code",
   "execution_count": 36,
   "id": "suffering-murray",
   "metadata": {},
   "outputs": [
    {
     "name": "stdout",
     "output_type": "stream",
     "text": [
      "636758.39\n"
     ]
    }
   ],
   "source": [
    "dp_sum_original_dataset = BoundedSum(epsilon= 1.5, lower_bound =  5, upper_bound = 250, dtype ='float') \n",
    "dp_sum_og = dp_sum_original_dataset.quick_result(original_dataset['sales_amount'].to_list())\n",
    "dp_sum_og = round(dp_sum_og, 2)\n",
    "print(dp_sum_og)"
   ]
  },
  {
   "cell_type": "code",
   "execution_count": 37,
   "id": "inside-dallas",
   "metadata": {},
   "outputs": [
    {
     "name": "stdout",
     "output_type": "stream",
     "text": [
      "637019.12\n"
     ]
    }
   ],
   "source": [
    "dp_redact_dataset = BoundedSum(epsilon= 1.5, lower_bound =  5, upper_bound = 250, dtype ='float')\n",
    "dp_redact_dataset.add_entries(redact_dataset['sales_amount'].to_list())\n",
    "dp_sum_redact=round(dp_redact_dataset.result(), 2)\n",
    "print(dp_sum_redact)"
   ]
  },
  {
   "cell_type": "markdown",
   "id": "unnecessary-observer",
   "metadata": {},
   "source": [
    "Let's proceed to summarize a few observations.\n",
    "\n",
    "1. Now that we've calculated the differentially private sum on the original and the second dataset, it's straightforward to verify that that the differentially private sums are not equal to sums under the non-differentially private setting. <br>\n",
    "2. Also, the difference is no longer equal to the amount that Osbourne spent indicating that membership attacks would now be unsuccessful, regardless of access to any other customer records. <br>\n",
    "3. Interestingly, the differentially private sum values are still comparable and are not very different. <br>\n",
    "4. We've therefore succeeded in ensuring differential privacy in our simple example!"
   ]
  },
  {
   "cell_type": "code",
   "execution_count": 38,
   "id": "foreign-victory",
   "metadata": {},
   "outputs": [
    {
     "name": "stdout",
     "output_type": "stream",
     "text": [
      "Sum of sales_value in the orignal dataset: 636594.59\n",
      "Sum of sales_value in the orignal dataset with DP: 636758.39\n"
     ]
    }
   ],
   "source": [
    "print(f\"Sum of sales_value in the orignal dataset: {sum_original_dataset}\")\n",
    "print(f\"Sum of sales_value in the orignal dataset with DP: {dp_sum_og}\")\n",
    "assert dp_sum_og != sum_original_dataset"
   ]
  },
  {
   "cell_type": "code",
   "execution_count": 39,
   "id": "passing-upset",
   "metadata": {},
   "outputs": [
    {
     "name": "stdout",
     "output_type": "stream",
     "text": [
      "Sum of sales_value in the second dataset: 636562.65\n",
      "Sum of sales_value in the second dataset with DP: 637019.12\n"
     ]
    }
   ],
   "source": [
    "print(f\"Sum of sales_value in the second dataset: {sum_redact_dataset}\")\n",
    "print(f\"Sum of sales_value in the second dataset with DP: {dp_sum_redact}\")\n",
    "assert dp_sum_redact != sum_redact_dataset"
   ]
  },
  {
   "cell_type": "code",
   "execution_count": 40,
   "id": "frozen-navigation",
   "metadata": {},
   "outputs": [
    {
     "name": "stdout",
     "output_type": "stream",
     "text": [
      "Difference in Sum with DP: -260.73\n",
      "Actual Difference in Sum: 31.94\n"
     ]
    }
   ],
   "source": [
    "print(f\"Difference in Sum with DP: {round(dp_sum_og - dp_sum_redact, 2)}\")\n",
    "print(f\"Actual Difference in Sum: {sales_amount_Osbourne}\")\n",
    "assert round(dp_sum_og - dp_sum_redact, 2) != sales_amount_Osbourne"
   ]
  },
  {
   "cell_type": "code",
   "execution_count": null,
   "id": "mineral-access",
   "metadata": {},
   "outputs": [],
   "source": []
  }
 ],
 "metadata": {
  "kernelspec": {
   "display_name": "Python 3",
   "language": "python",
   "name": "python3"
  },
  "language_info": {
   "codemirror_mode": {
    "name": "ipython",
    "version": 3
   },
   "file_extension": ".py",
   "mimetype": "text/x-python",
   "name": "python",
   "nbconvert_exporter": "python",
   "pygments_lexer": "ipython3",
   "version": "3.7.6rc1"
  }
 },
 "nbformat": 4,
 "nbformat_minor": 5
}
